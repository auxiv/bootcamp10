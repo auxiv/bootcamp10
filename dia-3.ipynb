{
 "cells": [
  {
   "cell_type": "code",
   "execution_count": 2,
   "metadata": {},
   "outputs": [
    {
     "name": "stdout",
     "output_type": "stream",
     "text": [
      "False\n"
     ]
    }
   ],
   "source": [
    "def palabra_y_numero(palabra , numero) :\n",
    "    if len(palabra)  == numero :\n",
    "        return True\n",
    "    else :\n",
    "        return False\n",
    "\n",
    "print (palabra_y_numero (\"longitud\" , 5))\n"
   ]
  },
  {
   "cell_type": "code",
   "execution_count": 8,
   "metadata": {},
   "outputs": [
    {
     "name": "stdout",
     "output_type": "stream",
     "text": [
      "[a]\n"
     ]
    }
   ],
   "source": [
    "def palabra_y_letra (palabra , letra) :\n",
    "    if letra in palabra :\n",
    "        return \"[\" + letra + \"]\"\n",
    "    else : \n",
    "        return letra \n",
    "\n",
    "print (palabra_y_letra( \"hola\", \"a\"))"
   ]
  },
  {
   "cell_type": "code",
   "execution_count": 16,
   "metadata": {},
   "outputs": [
    {
     "name": "stdout",
     "output_type": "stream",
     "text": [
      "hay una\n"
     ]
    }
   ],
   "source": [
    "def palabra_y_letra (palabra , letra) :\n",
    "    for letra_de_palabra in palabra :\n",
    "        if letra == letra_de_palabra : \n",
    "            return \"hay una\"\n",
    "print (palabra_y_letra( \"alto\", \"a\"))\n",
    "# el return solo recorre la primera letra"
   ]
  },
  {
   "cell_type": "code",
   "execution_count": 8,
   "metadata": {},
   "outputs": [
    {
     "name": "stdout",
     "output_type": "stream",
     "text": [
      "hay una\n",
      "hay una\n",
      "hay una\n"
     ]
    }
   ],
   "source": [
    "def palabra_y_letra (palabra , letra) :\n",
    "    for letra_de_palabra in palabra :\n",
    "        if letra == letra_de_palabra : \n",
    "            print(\"hay una\")\n",
    "palabra_y_letra( \"camara\", \"a\")"
   ]
  },
  {
   "cell_type": "code",
   "execution_count": 27,
   "metadata": {},
   "outputs": [
    {
     "name": "stdout",
     "output_type": "stream",
     "text": [
      "['t', 'a', 't', 'a']\n",
      "['t', 'e', 't', 'e']\n",
      "['t', 'o', 't', 'o']\n",
      "[['t', 'a', 't', 'a'], ['t', 'e', 't', 'e'], ['t', 'o', 't', 'o']]\n"
     ]
    }
   ],
   "source": [
    "palabra_ingresadas =  []\n",
    "palabra_ingresada = input(\"ingrese una palabra\")\n",
    "palabra = list(palabra_ingresada)\n",
    "print(palabra)\n",
    "palabra_ingresadas.append(palabra)\n",
    "\n",
    "\n",
    "palabra_ingresada = input(\"ingrese una palabra\")\n",
    "palabra = list(palabra_ingresada)\n",
    "print(palabra)\n",
    "palabra_ingresadas.append(palabra)\n",
    "\n",
    "palabra_ingresada = input(\"ingrese una palabra\")\n",
    "palabra = list(palabra_ingresada)\n",
    "print(palabra)\n",
    "palabra_ingresadas.append (palabra)\n",
    "print(palabra_ingresadas)"
   ]
  },
  {
   "cell_type": "code",
   "execution_count": 55,
   "metadata": {},
   "outputs": [
    {
     "name": "stdout",
     "output_type": "stream",
     "text": [
      "['h', 'o', 'l', 'i', 's']\n",
      "['h', 'e', 'l', 'l', 'o']\n",
      "['h', 'a', 'l', 'l', 'o']\n"
     ]
    }
   ],
   "source": [
    "lista_de_listas = [['h', 'o', 'l', 'i', 's'], ['h', 'e', 'l', 'l', 'o'], ['h', 'a', 'l', 'l', 'o']]\n",
    "\n",
    "def imprimir_grilla():\n",
    "    global lista_de_listas    \n",
    "    for lista in lista_de_listas :\n",
    "        print(lista)\n",
    "\n",
    "imprimir_grilla()\n"
   ]
  },
  {
   "cell_type": "code",
   "execution_count": null,
   "metadata": {},
   "outputs": [],
   "source": [
    "palabra_introducida = input(\"ingrese una palabra\")\n",
    "while palabra_introducida != palabra and intentos >= 0 :\n",
    "    palabra_introducida = input (\"ingrese una palabra\")\n",
    "    intentos "
   ]
  },
  {
   "cell_type": "code",
   "execution_count": null,
   "metadata": {},
   "outputs": [],
   "source": []
  }
 ],
 "metadata": {
  "kernelspec": {
   "display_name": "Python 3.8.10 64-bit",
   "language": "python",
   "name": "python3"
  },
  "language_info": {
   "codemirror_mode": {
    "name": "ipython",
    "version": 3
   },
   "file_extension": ".py",
   "mimetype": "text/x-python",
   "name": "python",
   "nbconvert_exporter": "python",
   "pygments_lexer": "ipython3",
   "version": "3.8.10"
  },
  "orig_nbformat": 4,
  "vscode": {
   "interpreter": {
    "hash": "916dbcbb3f70747c44a77c7bcd40155683ae19c65e1c03b4aa3499c5328201f1"
   }
  }
 },
 "nbformat": 4,
 "nbformat_minor": 2
}
