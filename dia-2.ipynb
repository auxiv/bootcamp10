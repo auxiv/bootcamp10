{
 "cells": [
  {
   "cell_type": "code",
   "execution_count": 14,
   "metadata": {},
   "outputs": [
    {
     "name": "stdout",
     "output_type": "stream",
     "text": [
      "fesquete\n"
     ]
    }
   ],
   "source": [
    "temperatura = int(input(temperatura))\n",
    "if temperatura >= -10 and temperatura <= 18 :\n",
    "    print(\"fesquete\")\n",
    "elif temperatura >= 19 and temperatura <= 30 :\n",
    "    print(\"calorcito\")\n",
    "elif temperatura >= 31 and temperatura <= 45 :\n",
    "    print(\"hakuuuuu\") \n",
    "else : \n",
    "    print(\"namano mbae\")\n"
   ]
  },
  {
   "cell_type": "code",
   "execution_count": 18,
   "metadata": {},
   "outputs": [
    {
     "name": "stdout",
     "output_type": "stream",
     "text": [
      "contrasena incorrecta. intentelo de nuevo\n",
      "contrasena incorrecta. intentelo de nuevo\n",
      "ud es el agente elegido para esta mision\n"
     ]
    }
   ],
   "source": [
    "contrasena_guardada = \"contrasena123\"\n",
    "contrasena_ingresada = input(\"ingresar contrasena\")\n",
    "\n",
    "while contrasena_ingresada != contrasena_guardada : \n",
    "    contrasena_ingresada = input(\"ingresar contrasena\")\n",
    "    print(\"contrasena incorrecta. intentelo de nuevo\")\n",
    "print(\"ud es el agente elegido para esta mision\")\n",
    "\n"
   ]
  },
  {
   "cell_type": "code",
   "execution_count": 35,
   "metadata": {},
   "outputs": [
    {
     "name": "stdout",
     "output_type": "stream",
     "text": [
      "['Ford', 'Chevrolet', 'Nissan', 'Toyota']\n",
      "['Ford', 'Chevrolet', 'Nissan', 'Toyota', 'Hyundai']\n",
      "['Ford', 'Mercedes', 'Nissan', 'Toyota', 'Hyundai']\n",
      "['Ford', 'Nissan', 'Toyota', 'Hyundai']\n"
     ]
    }
   ],
   "source": [
    "marcas = [\"Ford\", \"Chevrolet\", \"Nissan\", \"Toyota\"]\n",
    "print(marcas)\n",
    "marcas.append(\"Hyundai\")\n",
    "print(marcas)\n",
    "marcas[1] = \"Mercedes\"\n",
    "print(marcas)\n",
    "marcas.remove(\"Mercedes\")\n",
    "print(marcas)"
   ]
  },
  {
   "cell_type": "code",
   "execution_count": 42,
   "metadata": {},
   "outputs": [],
   "source": [
    "marcas = [\"Ford\", \"Chevrolet\", \"Nissan\", \"Toyota\"]\n",
    "#cantidad_de_letras = len(\"nissan\")\n",
    "# print(cantidad_de_letras)\n",
    "for  marca in marcas :\n",
    "    break\n",
    "    marcas == (\"Ford\")\n",
    "    print(marcas)"
   ]
  },
  {
   "cell_type": "code",
   "execution_count": 50,
   "metadata": {},
   "outputs": [
    {
     "name": "stdout",
     "output_type": "stream",
     "text": [
      "['Ford', 'Chevrolet', 'Nissan', 'Toyota']\n",
      "['Ford', 'Chevrolet', 'Nissan', 'Toyota']\n",
      "['Ford', 'Chevrolet', 'Nissan', 'Toyota']\n"
     ]
    }
   ],
   "source": [
    "marcas = [\"Ford\", \"Chevrolet\", \"Nissan\", \"Toyota\"]\n",
    "for  marca in marcas :\n",
    "    longitud = len(marca)\n",
    "    if longitud >= 6 :\n",
    "        print(marcas)"
   ]
  },
  {
   "cell_type": "code",
   "execution_count": 59,
   "metadata": {},
   "outputs": [
    {
     "name": "stdout",
     "output_type": "stream",
     "text": [
      "buenas tardes\n",
      "como estas\n"
     ]
    }
   ],
   "source": [
    "\n",
    "def saludo ():\n",
    "    print(\"buenas tardes\")\n",
    "    print(\"como estas\")\n",
    "saludo()"
   ]
  },
  {
   "cell_type": "code",
   "execution_count": 68,
   "metadata": {},
   "outputs": [
    {
     "name": "stdout",
     "output_type": "stream",
     "text": [
      "tu vuelto es 420000\n"
     ]
    }
   ],
   "source": [
    "def tu_vuelto_kp () : \n",
    "    plata = input(\"cuanta plata tenes?\")\n",
    "    precio_del_producto = input(\"cuanto costo eso?\")\n",
    "    vuelto = int(plata) - int(precio_del_producto)\n",
    "    print(\"tu vuelto es\" + \" \" + str(vuelto))\n",
    "\n",
    "tu_vuelto_kp ()\n"
   ]
  },
  {
   "cell_type": "code",
   "execution_count": 73,
   "metadata": {},
   "outputs": [
    {
     "name": "stdout",
     "output_type": "stream",
     "text": [
      "no encontre ninguna o\n"
     ]
    }
   ],
   "source": [
    "def letra_o () :\n",
    "    frase = input(\"ingresa la frase que quieras\")\n",
    "    if \"o\" in frase :\n",
    "        print (\"encontre la o\")\n",
    "    else : \n",
    "        print(\"no encontre ninguna o\")\n",
    "\n",
    "letra_o()"
   ]
  },
  {
   "cell_type": "code",
   "execution_count": 77,
   "metadata": {},
   "outputs": [
    {
     "name": "stdout",
     "output_type": "stream",
     "text": [
      "encontre la o\n",
      "encontre la o\n",
      "encontre la o\n"
     ]
    }
   ],
   "source": [
    "def letra_o () :\n",
    "    frase = input(\"ingresa la frase que quieras\")\n",
    "    for letra in frase :\n",
    "        if letra == \"o\" :\n",
    "            print(\"encontre la o\")\n",
    "\n",
    "letra_o()"
   ]
  }
 ],
 "metadata": {
  "kernelspec": {
   "display_name": "Python 3.8.10 64-bit",
   "language": "python",
   "name": "python3"
  },
  "language_info": {
   "codemirror_mode": {
    "name": "ipython",
    "version": 3
   },
   "file_extension": ".py",
   "mimetype": "text/x-python",
   "name": "python",
   "nbconvert_exporter": "python",
   "pygments_lexer": "ipython3",
   "version": "3.8.10"
  },
  "orig_nbformat": 4,
  "vscode": {
   "interpreter": {
    "hash": "916dbcbb3f70747c44a77c7bcd40155683ae19c65e1c03b4aa3499c5328201f1"
   }
  }
 },
 "nbformat": 4,
 "nbformat_minor": 2
}
