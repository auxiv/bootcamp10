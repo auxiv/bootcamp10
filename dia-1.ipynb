{
 "cells": [
  {
   "cell_type": "code",
   "execution_count": 4,
   "metadata": {},
   "outputs": [
    {
     "name": "stdout",
     "output_type": "stream",
     "text": [
      "hola mundo\n"
     ]
    }
   ],
   "source": [
    "print(\"hola mundo\")"
   ]
  },
  {
   "cell_type": "code",
   "execution_count": 5,
   "metadata": {},
   "outputs": [
    {
     "name": "stdout",
     "output_type": "stream",
     "text": [
      "25\n"
     ]
    }
   ],
   "source": [
    "cantidad_de_motos = 15\n",
    "cantidad_de_autos = 10\n",
    "cantidad_de_vehiculos = cantidad_de_motos + cantidad_de_autos \n",
    "print(cantidad_de_vehiculos)"
   ]
  },
  {
   "cell_type": "code",
   "execution_count": 6,
   "metadata": {},
   "outputs": [
    {
     "name": "stdout",
     "output_type": "stream",
     "text": [
      "15\n"
     ]
    }
   ],
   "source": [
    "vehiculos_vendidos = 10\n",
    "cantidad_de_veiculos = 35\n",
    "vehiculos_restantes = cantidad_de_vehiculos - vehiculos_vendidos\n",
    "print(vehiculos_restantes)"
   ]
  },
  {
   "cell_type": "code",
   "execution_count": 23,
   "metadata": {},
   "outputs": [
    {
     "name": "stdout",
     "output_type": "stream",
     "text": [
      "hola! me llamo tam cantero, mucho gusto.\n"
     ]
    }
   ],
   "source": [
    "nombre = \"tam\"\n",
    "apellido = \"cantero\"\n",
    "companera = \"hola! me llamo \" + nombre + \" \" + apellido + \", mucho gusto.\"\n",
    "print(companera)"
   ]
  },
  {
   "cell_type": "code",
   "execution_count": 37,
   "metadata": {},
   "outputs": [
    {
     "name": "stdout",
     "output_type": "stream",
     "text": [
      "18\n"
     ]
    }
   ],
   "source": [
    "edad = input(\"cuantos anos tenes?\")\n",
    "numero_favorito = input(\"que numero te gusta mas?\")\n",
    "datos = int(edad) + int(numero_favorito)\n",
    "print(datos)"
   ]
  },
  {
   "cell_type": "code",
   "execution_count": 50,
   "metadata": {},
   "outputs": [
    {
     "name": "stdout",
     "output_type": "stream",
     "text": [
      "agarro un lapiz\n",
      "abrio el cuaderno\n",
      "empezo a escribir\n",
      "se perdio la inspiracion, espero un rato y volio a empezar\n",
      "agarro un lapiz\n",
      "abrio el cuaderno\n",
      "empezo a escribir\n",
      "se perdio el lapiz\n",
      "agarro un lapiz\n",
      "abrio el cuaderno\n",
      "empezo a escribir\n"
     ]
    }
   ],
   "source": [
    "def escribir_algo() : \n",
    "    print(\"agarro un lapiz\")\n",
    "    print(\"abrio el cuaderno\")\n",
    "    print(\"empezo a escribir\")\n",
    "escribir_algo()\n",
    "\n",
    "print(\"se perdio la inspiracion, espero un rato y volio a empezar\")\n",
    "escribir_algo()\n",
    "print(\"se perdio el lapiz\")\n",
    "escribir_algo()\n"
   ]
  },
  {
   "cell_type": "code",
   "execution_count": 64,
   "metadata": {},
   "outputs": [
    {
     "name": "stdout",
     "output_type": "stream",
     "text": [
      "Un auto toyota vitz dosmiltres se ha vendido\n",
      "Un auto toyota vitz dosmiltres salió de la tienda\n",
      "Un auto hyundai hbveinte dosmilveinte se ha vendido\n",
      "Un auto hyundai hbveinte dosmilveinte salió de la tienda\n"
     ]
    }
   ],
   "source": [
    "def vender_auto(marca, modelo, ano):\n",
    "    print(\"Un auto \" + marca + \" \" + modelo + \" \" + ano + \" se ha vendido\")\n",
    "    print(\"Un auto \" + marca + \" \" + modelo + \" \" + ano + \" salió de la tienda\")\n",
    "\n",
    "vender_auto(\"toyota\", \"vitz\", \"dosmiltres\")\n",
    "vender_auto(\"hyundai\", \"hbveinte\", \"dosmilveinte\")"
   ]
  }
 ],
 "metadata": {
  "kernelspec": {
   "display_name": "Python 3.8.10 64-bit",
   "language": "python",
   "name": "python3"
  },
  "language_info": {
   "codemirror_mode": {
    "name": "ipython",
    "version": 3
   },
   "file_extension": ".py",
   "mimetype": "text/x-python",
   "name": "python",
   "nbconvert_exporter": "python",
   "pygments_lexer": "ipython3",
   "version": "3.8.10"
  },
  "orig_nbformat": 4,
  "vscode": {
   "interpreter": {
    "hash": "31f2aee4e71d21fbe5cf8b01ff0e069b9275f58929596ceb00d14d90e3e16cd6"
   }
  }
 },
 "nbformat": 4,
 "nbformat_minor": 2
}
