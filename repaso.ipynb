{
 "cells": [
  {
   "cell_type": "code",
   "execution_count": null,
   "metadata": {},
   "outputs": [],
   "source": [
    "def imprimir_saludo ():\n",
    "    nombre =input(\"\")\n",
    "    priint()\n",
    "imprimir_saludo()"
   ]
  },
  {
   "cell_type": "code",
   "execution_count": 5,
   "metadata": {},
   "outputs": [
    {
     "name": "stdout",
     "output_type": "stream",
     "text": [
      "108\n",
      "43\n"
     ]
    }
   ],
   "source": [
    "def sumar(sumando1 , sumando2):\n",
    "    resultado = sumando1 + sumando2\n",
    "    print(resultado)\n",
    "sumar(33,75)\n",
    "sumar (34,9)"
   ]
  },
  {
   "cell_type": "code",
   "execution_count": 3,
   "metadata": {},
   "outputs": [
    {
     "data": {
      "text/plain": [
       "360"
      ]
     },
     "execution_count": 3,
     "metadata": {},
     "output_type": "execute_result"
    }
   ],
   "source": [
    "def sumar(sumando1 , sumando2):\n",
    "    resultado = sumando1 + sumando2\n",
    "    return resultado\n",
    "resultado = sumar (34,2)\n",
    "otro_resultado = sumar(24,6)\n",
    "# print(resultado) # sin el print solo se ejecutara pero no mostrara\n",
    "resultado *10 "
   ]
  },
  {
   "cell_type": "markdown",
   "metadata": {},
   "source": [
    "## Challenge🤺 \n",
    "\n",
    "Crear una funcion que pida como parametro el nombre, correo y contraseña de una persona. Retornar True si la contraseña tiene mas de 4 caracteres y el correo contiene un \"@\". De lo contrario retornar False\n"
   ]
  },
  {
   "cell_type": "code",
   "execution_count": 19,
   "metadata": {},
   "outputs": [
    {
     "data": {
      "text/plain": [
       "False"
      ]
     },
     "execution_count": 19,
     "metadata": {},
     "output_type": "execute_result"
    }
   ],
   "source": [
    "\n",
    "# funcion que comprueba las condiciones\n",
    "\n",
    "def usuario (nombre,correo,contrasena):\n",
    "    if len(contrasena) > 4 and \"@\" in correo :\n",
    "        return True\n",
    "    else :\n",
    "        return False   \n",
    "\n",
    "# pedir al usuario los datos\n",
    "\n",
    "nombre = input(\"ingresa tu nombre por favor\")\n",
    "correo = input(\"ingresa tu corrreo por favor\")\n",
    "contrasena = input(\"ingresa tu contrasena por favor\")\n",
    "\n",
    "# imprimir los datos \n",
    "\n",
    "(usuario(nombre,correo,contrasena))"
   ]
  },
  {
   "cell_type": "code",
   "execution_count": 23,
   "metadata": {},
   "outputs": [
    {
     "data": {
      "text/plain": [
       "False"
      ]
     },
     "execution_count": 23,
     "metadata": {},
     "output_type": "execute_result"
    }
   ],
   "source": [
    "# funcion que comprueba las condiciones\n",
    "\n",
    "def usuario (nombre,correo,contrasena):\n",
    "    cantidad_de_caracteres = len(contrasena)\n",
    "    checkeo = cantidad_de_caracteres > 4 and \"@\" in correo \n",
    "    return checkeo\n",
    "\n",
    "# pedir al usuario los datos\n",
    "\n",
    "nombre = input(\"ingresa tu nombre por favor\")\n",
    "correo = input(\"ingresa tu corrreo por favor\")\n",
    "contrasena = input(\"ingresa tu contrasena por favor\")\n",
    "\n",
    "# imprimir los datos \n",
    "\n",
    "(usuario(nombre,correo,contrasena))"
   ]
  },
  {
   "cell_type": "code",
   "execution_count": 26,
   "metadata": {},
   "outputs": [
    {
     "name": "stdout",
     "output_type": "stream",
     "text": [
      "puede tomar birra\n"
     ]
    }
   ],
   "source": [
    "edad= 25\n",
    "es_mayor = edad >= 18\n",
    "if es_mayor :\n",
    "    print(\"puede tomar birra\")"
   ]
  },
  {
   "cell_type": "markdown",
   "metadata": {},
   "source": [
    "# Challenge🤺 \n",
    "\n",
    "Crear un programa que al preguntar al usuario por su edad determine si puede comprar y consumir alcohol.\n",
    "\n",
    "- En el caso en el que su edad sea menor a 18 imprimir \"solo jugo ades\"\n",
    "- En el caso de que tenga entre 18 y 21 imprimir \"podes tomar pero no comprar\"\n",
    "- En el caso de que tenga mas de 21 imprimir \"hace lo que quieras kp\""
   ]
  },
  {
   "cell_type": "code",
   "execution_count": 30,
   "metadata": {},
   "outputs": [
    {
     "name": "stdout",
     "output_type": "stream",
     "text": [
      "solo jugo ades\n"
     ]
    }
   ],
   "source": [
    "edad = int(input(\"cuantos anos tienes?\"))\n",
    "if edad < 18 :\n",
    "    print(\"solo jugo ades\")\n",
    "elif edad >= 18 and edad <= 21 :\n",
    "    print(\"podes tomar pero no compar\")\n",
    "else :\n",
    "    print(\"hace lq quieras kp\")\n"
   ]
  },
  {
   "cell_type": "code",
   "execution_count": 33,
   "metadata": {},
   "outputs": [
    {
     "name": "stdout",
     "output_type": "stream",
     "text": [
      "1\n",
      "2\n",
      "3\n",
      "4\n",
      "5\n"
     ]
    }
   ],
   "source": [
    "numero =0\n",
    "while  numero < 5:\n",
    "    numero = numero + 1\n",
    "    print(numero)"
   ]
  },
  {
   "cell_type": "code",
   "execution_count": 35,
   "metadata": {},
   "outputs": [
    {
     "name": "stdout",
     "output_type": "stream",
     "text": [
      "zzz\n",
      "zzz\n",
      "zzz\n",
      "zzz\n",
      "zzz\n",
      "zzz\n"
     ]
    }
   ],
   "source": [
    "intentos= 6\n",
    "while intentos> 0:\n",
    "    intentos = intentos-1\n",
    "    print(\"zzz\")"
   ]
  },
  {
   "cell_type": "code",
   "execution_count": 37,
   "metadata": {},
   "outputs": [
    {
     "name": "stdout",
     "output_type": "stream",
     "text": [
      "1\n",
      "2\n",
      "3\n",
      "4\n",
      "5\n"
     ]
    }
   ],
   "source": [
    "numero =0\n",
    "while True :\n",
    "    numero = numero + 1\n",
    "    print(numero)\n",
    "    if numero == 5 : \n",
    "        break "
   ]
  },
  {
   "cell_type": "markdown",
   "metadata": {},
   "source": [
    "## Challenge🤺\n",
    "\n",
    "Crear un programa que pregunte al usuario por un numero secreto hasta que acierte. Si falla imprimir si el numero a adivinar es mayor o menor al numero ingresado.\n"
   ]
  },
  {
   "cell_type": "code",
   "execution_count": 63,
   "metadata": {},
   "outputs": [
    {
     "name": "stdout",
     "output_type": "stream",
     "text": [
      "el numero ingresado es correcto\n"
     ]
    }
   ],
   "source": [
    "numero_correcto= 9\n",
    "numero_ingresado = int(input(\"Ingresa un numero\"))\n",
    "while numero_ingresado == numero_correcto : \n",
    "    print(\"el numero ingresado es correcto\")\n"
   ]
  },
  {
   "cell_type": "code",
   "execution_count": 71,
   "metadata": {},
   "outputs": [
    {
     "name": "stdout",
     "output_type": "stream",
     "text": [
      "el numero ingresado es incorrecto\n",
      "el numero ingresado es incorrecto\n",
      "el numero ingresado es incorrecto\n",
      "el numero ingresado es incorrecto\n",
      "el numero ingresado es incorrecto\n",
      "el numero ingresado es incorrecto\n",
      "el numero ingresado es incorrecto\n",
      "el numero ingresado es incorrecto\n"
     ]
    }
   ],
   "source": [
    "numero_secreto= 9  \n",
    "numero_ingresado= int(input(\"ingresa un numero\"))\n",
    "while numero_ingresado != numero_secreto :\n",
    "    print(\"el numero ingresado es incorrecto\")\n",
    "    numero_ingresado= int(input(\"ingresa un numero\"))\n",
    "    "
   ]
  },
  {
   "cell_type": "code",
   "execution_count": 72,
   "metadata": {},
   "outputs": [
    {
     "name": "stdout",
     "output_type": "stream",
     "text": [
      "Adivinaste!\n"
     ]
    }
   ],
   "source": [
    "numero_secreto = 31\n",
    "numero_ingresado = int(input(\"ingrese un numero\"))\n",
    "while numero_ingresado != numero_secreto:\n",
    "    if numero_ingresado < numero_secreto:\n",
    "        print(\"Ingrese un numero mas alto\")\n",
    "    elif numero_ingresado > numero_secreto:\n",
    "        print(\"ingrese un numero menor\")\n",
    "    numero_ingresado = int(input(\"ingrese otro numero\"))\n",
    "print(\"Adivinaste!\") # resolucion de ana "
   ]
  },
  {
   "cell_type": "code",
   "execution_count": 74,
   "metadata": {},
   "outputs": [
    {
     "name": "stdout",
     "output_type": "stream",
     "text": [
      "frutas\n",
      "verduras\n",
      "jamon\n",
      "queso\n"
     ]
    }
   ],
   "source": [
    "lista_de_supermercado = [\"frutas\", \"verduras\", \"jamon\", \"queso\"]\n",
    "for cosas in lista_de_supermercado :\n",
    "    print(cosas)"
   ]
  },
  {
   "cell_type": "code",
   "execution_count": 75,
   "metadata": {},
   "outputs": [
    {
     "name": "stdout",
     "output_type": "stream",
     "text": [
      "1\n",
      "2\n",
      "3\n",
      "4\n",
      "5\n"
     ]
    }
   ],
   "source": [
    "numero = 0\n",
    "for elemento in range(5) :\n",
    "    numero= numero + 1\n",
    "    print(numero)"
   ]
  }
 ],
 "metadata": {
  "kernelspec": {
   "display_name": "Python 3.8.10 64-bit",
   "language": "python",
   "name": "python3"
  },
  "language_info": {
   "codemirror_mode": {
    "name": "ipython",
    "version": 3
   },
   "file_extension": ".py",
   "mimetype": "text/x-python",
   "name": "python",
   "nbconvert_exporter": "python",
   "pygments_lexer": "ipython3",
   "version": "3.8.10"
  },
  "orig_nbformat": 4,
  "vscode": {
   "interpreter": {
    "hash": "31f2aee4e71d21fbe5cf8b01ff0e069b9275f58929596ceb00d14d90e3e16cd6"
   }
  }
 },
 "nbformat": 4,
 "nbformat_minor": 2
}
